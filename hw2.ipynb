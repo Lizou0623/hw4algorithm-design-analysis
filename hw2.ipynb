{
 "cells": [
  {
   "cell_type": "markdown",
   "metadata": {},
   "source": [
    "## algorithm design and anlysis-2025 spring  homework 2\n",
    "**Deadline**：2025.5.14\n",
    "\n",
    "**name**:李鑫娟 112024321341957\n",
    "\n",
    "\n",
    "note：\n",
    "---\n",
    "1. 带有\\*的题目，申请免上课的同学，必须完成，其他同学选作；\n",
    "2. 请独立完成，如求助了他人或者大模型，请著明，并且不可省略算法分析部分；\n",
    "4. 如若作答有雷同，全部取消成绩；\n",
    "3. 需要书面作答的题目，可以通过引用图片的形式添加，但是注意上传项目时包含所引用的图片的源文件；\n",
    "4. $log_n$ 默认表示$log_2{n}$;"
   ]
  },
  {
   "cell_type": "markdown",
   "metadata": {},
   "source": [
    "## 问题 1  \n",
    "\n",
    "> 给定一个已排序的链表的头 `head` ， *删除所有重复的元素，使每个元素只出现一次* 。返回 *已排序的链表* 。链表的类如下所示：\n",
    "\n",
    "```python\n",
    "class NodeList:\n",
    "    def __init__(self, val=None, right=None):\n",
    "        self.val   = val\n",
    "        self.right = right\n",
    "```\n",
    "\n",
    "输入是一个数组，你首先需要将数组转化为链表，然后删除链表中的重复元素，再遍历链表元素，以一个数组的形式返回。请设计一个算法解决上述任务，分析算法设计思路，计算时间复杂度, 并基于python编程实现。\n",
    "\n",
    "e.g.  输入：head=[1, 1, 2, 3, 3]   输出：[1, 2, 3]\n",
    "\n",
    "![image-20240502110020439](./fig/hw2q1.png)\n",
    "\n"
   ]
  },
  {
   "cell_type": "markdown",
   "metadata": {},
   "source": [
    "### idea：\n",
    "\n",
    "数组转链表：对输入的数组进行遍历，逐个创建链表节点，并且将这些节点连接起来。\n",
    "\n",
    "删除重复元素：从链表的头节点开始遍历，若当前节点的值和下一个节点的值相同，就跳过下一个节点，直接将当前节点的 right 指针指向下下个节点；若不同，就将当前节点移动到下一个节点。\n",
    "\n",
    "链表转数组：对处理后的链表进行遍历，把每个节点的值添加到一个数组中，最终返回该数组\n",
    "\n",
    "### 时间复杂度\n",
    "\n",
    "将数组转化为链表：O(n)，其中 n 是数组的长度。\n",
    "\n",
    "删除链表中的重复元素：O(n)，因为每个节点最多被访问一次。\n",
    "\n",
    "遍历链表并返回数组：O(n)，因为每个节点最多被访问一次。\n",
    "\n",
    "总的时间复杂度为 O(n)。"
   ]
  },
  {
   "cell_type": "code",
   "execution_count": 2,
   "metadata": {},
   "outputs": [
    {
     "name": "stdout",
     "output_type": "stream",
     "text": [
      "[1, 2, 3]\n"
     ]
    }
   ],
   "source": [
    "# add your idea here √\n",
    "#参考大模型\n",
    "# your algorithm time complexity is:\n",
    "\n",
    "class NodeList:\n",
    "    def __init__(self, val=None, right=None):\n",
    "        self.val = val\n",
    "        self.right = right\n",
    "\n",
    "\n",
    "def array_to_linked_list(arr):\n",
    "    dummy = NodeList()\n",
    "    current = dummy\n",
    "    for val in arr:\n",
    "        current.right = NodeList(val)\n",
    "        current = current.right\n",
    "    return dummy.right\n",
    "\n",
    "\n",
    "def remove_duplicates(head):\n",
    "    current = head\n",
    "    while current and current.right:\n",
    "        if current.val == current.right.val:\n",
    "            current.right = current.right.right\n",
    "        else:\n",
    "            current = current.right\n",
    "    return head\n",
    "\n",
    "\n",
    "def linked_list_to_array(head):\n",
    "    result = []\n",
    "    current = head\n",
    "    while current:\n",
    "        result.append(current.val)\n",
    "        current = current.right\n",
    "    return result\n",
    "\n",
    "\n",
    "def solve(arr):\n",
    "    head = array_to_linked_list(arr)\n",
    "    head = remove_duplicates(head)\n",
    "    return linked_list_to_array(head)\n",
    "\n",
    "\n",
    "# 测试示例\n",
    "input_arr = [1,1,2,3,3]\n",
    "output = solve(input_arr)\n",
    "print(output)"
   ]
  },
  {
   "cell_type": "markdown",
   "metadata": {},
   "source": [
    "## 问题 2  \n",
    "\n",
    "> 下面是一个经典的算法问题：\n",
    ">\n",
    "> - 给定包含n个整数的一个整数数组 `nums` 和一个整数目标值 `target`，请你在该数组中找出 **和为目标值** *`target`* 的那 **两个** 整数，并返回它们的**数组下标**。假设每种输入只会对应一个答案。但是，数组中同一个元素在答案里不能重复出现。你可以按任意顺序返回答案。\n",
    ">\n",
    "> 由于要多次查找数组中元素的位置，为了提高查询效率可以使用哈希表来存储数组中的数据，在哈希表中查询一个元素的复杂度为O(1)。 已知python中的字典是使用哈希表实现的，即使用`dict[key]`查询对应的value时间复杂度为O(1), python提供了查询字典是否包含某个key的功能：`key in dict`，时间复杂度也是O(1)\n",
    "\n",
    "请根据上面信息，设计一个时间复杂度为O(n) 的算法，解决上述算法问题\n",
    "\n",
    "e.g.   \n",
    "\n",
    "输入：nums=[2,7,11,15], target=9， 输出：[0，1]\n",
    "\n",
    "输入：nums=[3,2,4], target=6, 输出：[1,2]\n",
    "\n",
    "输入：nums=[3,3], target=6,  输出：[0,1]\n"
   ]
  },
  {
   "cell_type": "markdown",
   "metadata": {},
   "source": [
    "### 算法步骤：\n",
    "\n",
    "创建哈希表：num_dict 用于存储数组元素及其对应的下标。\n",
    "\n",
    "遍历数组：对数组 nums 进行遍历，针对每个元素 num，计算其补数 complement = target - num。\n",
    "\n",
    "检查补数是否存在：查看 complement 是否在 num_dict 中，若存在，就返回 complement 的下标和当前元素的下标。\n",
    "\n",
    "存储元素及其下标：若 complement 不在 num_dict 中，就把当前元素 num 及其下标 i 存入 num_dict。\n",
    "\n",
    "返回结果：若遍历结束后未找到符合条件的两个数，就返回空列表。\n"
   ]
  },
  {
   "cell_type": "code",
   "execution_count": 2,
   "metadata": {},
   "outputs": [
    {
     "name": "stdout",
     "output_type": "stream",
     "text": [
      "[0, 1]\n",
      "[1, 2]\n",
      "[0, 1]\n"
     ]
    }
   ],
   "source": [
    "# add your idea here √\n",
    "# your algorithm time complexity is: O(n)\n",
    "def twoSum(nums, target):\n",
    "    num_dict = {}\n",
    "    for i, num in enumerate(nums):\n",
    "        complement = target - num\n",
    "        if complement in num_dict:\n",
    "            return [num_dict[complement], i]\n",
    "        num_dict[num] = i\n",
    "    return []\n",
    "\n",
    "\n",
    "# 测试示例\n",
    "nums1 = [2, 7, 11, 15]\n",
    "target1 = 9\n",
    "print(twoSum(nums1, target1))\n",
    "\n",
    "nums2 = [3, 2, 4]\n",
    "target2 = 6\n",
    "print(twoSum(nums2, target2))\n",
    "\n",
    "nums3 = [3, 3]\n",
    "target3 = 6\n",
    "print(twoSum(nums3, target3))\n"
   ]
  },
  {
   "cell_type": "markdown",
   "metadata": {},
   "source": [
    "## 问题 3:   \n",
    "\n",
    "> 栈是一种常用的数据结构，编译器中通常使用栈来实现表达式求值。\n",
    ">\n",
    "> 以表达式 $3+5 \\times 8-6$​ 为例。编译器使用两个栈来完成运算，即一个栈保持操作数，另一个栈保存运算符。\n",
    ">\n",
    "> 1. 从左向右遍历表达式，遇到数字就压入操作数栈；\n",
    ">\n",
    "> 2. 遇到运算符，就与运算符栈的栈顶元素进行比较。如果比运算符栈顶元素的优先级高，就将当前运算符压入栈；如果比运算符栈顶元素的优先级低或者相同，从运算符栈中取栈顶运算符，从操作数栈的栈顶取 2 个操作数，然后进行计算，再把计算完的结果压入操作数栈，继续比较。\n",
    ">\n",
    "> 下图是 $3+5 \\times 8-6$  这个表达式的计算过程：\n",
    "\n",
    "![figure](./fig/hw2q3.png)\n",
    "\n",
    "根据上述原理，请设计一个算法完成表达式的运算，当输入为表达式字符串，返回对应的计算结果。分析算法设计思路，计算时间复杂度，并基于python编程实现\n",
    "\n",
    "**note：**\n",
    "\n",
    "1. 假设输入的表达式只会出现加（“+”），减 “-”， 乘“*”，除 “/” 四个运算符, 表达式中只会出现正整数\n",
    "2. python中` str.isdigit()`函数可以判断字符串str是否为数字，\n",
    "\n",
    "\n",
    "\n",
    "e.g. :\n",
    "---\n",
    "\n",
    "1. 输入：“$3+5 * 8 -6$”   输出：37\n",
    "\n",
    "2. 输入：“$34+13*9 + 44-12/3$”  输出：191"
   ]
  },
  {
   "cell_type": "markdown",
   "metadata": {},
   "source": [
    "### idea：\n",
    "\n",
    "使用两个栈：一个用于存储操作数（operands），另一个用于存储运算符（operators）。\n",
    "\n",
    "遍历表达式字符串，根据字符类型（数字或运算符）进行不同的处理。\n",
    "\n",
    "使用运算符优先级来决定何时进行计算。\n"
   ]
  },
  {
   "cell_type": "code",
   "execution_count": 5,
   "metadata": {},
   "outputs": [
    {
     "name": "stdout",
     "output_type": "stream",
     "text": [
      "37\n",
      "191\n"
     ]
    }
   ],
   "source": [
    "# add your idea here √\n",
    "# your algorithm time complexity is: \n",
    "def calculate(expression):\n",
    "    # 定义运算符优先级\n",
    "    precedence = {'+': 1, '-': 1, '*': 2, '/': 2}\n",
    "\n",
    "    # 初始化操作数栈和运算符栈\n",
    "    operands = []\n",
    "    operators = []\n",
    "\n",
    "    i = 0\n",
    "    while i < len(expression):\n",
    "        char = expression[i]\n",
    "\n",
    "        if char.isdigit():\n",
    "            # 处理多位数\n",
    "            num = 0\n",
    "            while i < len(expression) and expression[i].isdigit():\n",
    "                num = num * 10 + int(expression[i])\n",
    "                i += 1\n",
    "            operands.append(num)\n",
    "        elif char in precedence:\n",
    "            # 处理运算符\n",
    "            while (operators and operators[-1] in precedence and\n",
    "                   precedence[operators[-1]] >= precedence[char]):\n",
    "                # 弹出运算符栈顶运算符并计算\n",
    "                op = operators.pop()\n",
    "                b = operands.pop()\n",
    "                a = operands.pop()\n",
    "                if op == '+':\n",
    "                    operands.append(a + b)\n",
    "                elif op == '-':\n",
    "                    operands.append(a - b)\n",
    "                elif op == '*':\n",
    "                    operands.append(a * b)\n",
    "                elif op == '/':\n",
    "                    operands.append(a // b)\n",
    "            operators.append(char)\n",
    "            i += 1\n",
    "        else:\n",
    "            i += 1  # 跳过空格或其他字符\n",
    "\n",
    "    # 处理剩余的运算符\n",
    "    while operators:\n",
    "        op = operators.pop()\n",
    "        b = operands.pop()\n",
    "        a = operands.pop()\n",
    "        if op == '+':\n",
    "            operands.append(a + b)\n",
    "        elif op == '-':\n",
    "            operands.append(a - b)\n",
    "        elif op == '*':\n",
    "            operands.append(a * b)\n",
    "        elif op == '/':\n",
    "            operands.append(a // b)\n",
    "\n",
    "    return operands[0]\n",
    "\n",
    "\n",
    "# 测试\n",
    "print(calculate(\"3+5*8-6\"))  # 输出：37\n",
    "print(calculate(\"34+13*9+44-12/3\"))  # 输出：191"
   ]
  },
  {
   "cell_type": "markdown",
   "metadata": {},
   "source": [
    "## 问题 4:  \n",
    "\n",
    "> 星球碰撞问题：现有n个星球，在同一条直线上运行，如数组A所示，元素的绝对值表示星球的质量，负数表示星球自右向左运动，正数表示星球自左向右运动，当两个星球相撞的时候，质量小的会消失，大的保持不变，**质量相同的两个星球碰撞后自右向左运动的星球消失，自左向右的星球保持不变**，假设所有星球的速度大小相同。\n",
    ">\n",
    "> $ A=[23,-8, 9, -3, -7, 9, -23, 22] $\n",
    "\n",
    "请设计一个算法模拟星球的运行情况，输出最终的星球存续情况（输出一个数组），分析算法设计思路，计算时间复杂度，并基于python编程实现。\n",
    "\n",
    "e.g.\n",
    "---\n",
    "1.  输入： A=[-3,-6,2,8, 5,-8,9,-2,1]， 输出：[-3, -6, 2, 8, 9, 1]\n",
    "\n",
    "2. 输入：A=[23,-8, 9, -3, -7, 9, -23, 22], 输出：[23, 22]\n",
    "\n"
   ]
  },
  {
   "cell_type": "markdown",
   "metadata": {},
   "source": [
    "### idea:\n",
    "\n",
    "栈:遍历数组，如果当前元素为负数且栈顶元素为正数，则发生碰撞\n",
    "\n",
    "碰撞后大的质量不变，因此只有小的消失\n",
    "\n",
    "### 时间复杂度分析：\n",
    "\n",
    "在操作中，每个元素只会入栈一次，出栈一次，因此平均时间复杂度为O(n)\n",
    "\n",
    "最坏的情况下，内部的while循环每次都需要遍历整个栈，因此最坏时间复杂度为O(n^2)"
   ]
  },
  {
   "cell_type": "code",
   "execution_count": 12,
   "metadata": {},
   "outputs": [
    {
     "name": "stdout",
     "output_type": "stream",
     "text": [
      "[-3, -6, 2, 8, 9, 1]\n",
      "[23, 22]\n"
     ]
    }
   ],
   "source": [
    "def planet_collision(arr):\n",
    "    stack = []\n",
    "    for num in arr:\n",
    "        if not stack:\n",
    "            stack.append(num)\n",
    "        elif num * stack[-1] > 0 or (num > 0 and stack[-1] < 0):\n",
    "            stack.append(num)\n",
    "        elif num < 0 and stack[-1] > 0:\n",
    "            while (stack and abs(num) > stack[-1] and stack[-1]>0):\n",
    "                    stack.pop()\n",
    "            if not stack or stack[-1]<0:\n",
    "                stack.append(num)\n",
    "    return stack\n",
    "\n",
    "\n",
    "print(planet_collision([-3, -6, 2, 8, 5, -8, 9, -2, 1]))\n",
    "print(planet_collision([23, -8, 9, -3, -7, 9, -23, 22]))"
   ]
  },
  {
   "cell_type": "markdown",
   "metadata": {},
   "source": [
    "## 问题 5 \n",
    "\n",
    "> 给定一个无序数组nums=[9,-3,-10,0,9,7,33]，请建立一个二叉搜索树存储数组中的所有元素，之后删除二叉树中的元素“0”，再使用中序遍历输出二叉搜索树中的所有元素。\n",
    "\n",
    "使用python编程完成上述任务，并计算时间复杂度\n"
   ]
  },
  {
   "cell_type": "markdown",
   "metadata": {},
   "source": [
    "### idea:\n",
    "\n",
    "建立二叉搜索树（BST）：\n",
    "\n",
    "    遍历数组，将每个元素插入到BST中。\n",
    "删除BST中的特定元素：\n",
    "\n",
    "    删除元素“0”，处理三种情况：无子节点、有一个子节点、有两个子节点。\n",
    "中序遍历BST：\n",
    "\n",
    "    使用递归或迭代方法进行中序遍历，输出所有元素。\n",
    "\n",
    "\n",
    "### 时间复杂度分析\n",
    "\n",
    "建立BST：\n",
    "\n",
    "    插入一个元素的平均时间复杂度为 O(logn)，最坏情况下为 O(n)。\n",
    "    插入 n 个元素的总时间复杂度为 O(nlogn)。\n",
    "删除元素：\n",
    "\n",
    "    删除一个元素的平均时间复杂度为 O(logn)，最坏情况下为 O(n)。\n",
    "中序遍历：\n",
    "\n",
    "    中序遍历的时间复杂度为 O(n)。\n",
    "    \n",
    "总的时间复杂度为 O(nlogn)。"
   ]
  },
  {
   "cell_type": "code",
   "execution_count": 2,
   "metadata": {},
   "outputs": [
    {
     "name": "stdout",
     "output_type": "stream",
     "text": [
      "[-10, -3, 7, 9, 9, 33]\n"
     ]
    }
   ],
   "source": [
    "# add your idea here\n",
    "#参考大模型\n",
    "# your algorithm time complexity is:\n",
    "\n",
    "class TreeNode:\n",
    "    def __init__(self, val=0, left=None, right=None):\n",
    "        self.val = val\n",
    "        self.left = left\n",
    "        self.right = right\n",
    "\n",
    "class BST:\n",
    "    def __init__(self):\n",
    "        self.root = None\n",
    "\n",
    "    def insert(self, val):\n",
    "        if not self.root:\n",
    "            self.root = TreeNode(val)\n",
    "        else:\n",
    "            self._insert(self.root, val)\n",
    "\n",
    "    def _insert(self, node, val):\n",
    "        if val < node.val:\n",
    "            if not node.left:\n",
    "                node.left = TreeNode(val)\n",
    "            else:\n",
    "                self._insert(node.left, val)\n",
    "        else:\n",
    "            if not node.right:\n",
    "                node.right = TreeNode(val)\n",
    "            else:\n",
    "                self._insert(node.right, val)\n",
    "\n",
    "    def delete(self, val):\n",
    "        self.root = self._delete(self.root, val)\n",
    "\n",
    "    def _delete(self, node, val):\n",
    "        if not node:\n",
    "            return None\n",
    "        if val < node.val:\n",
    "            node.left = self._delete(node.left, val)\n",
    "        elif val > node.val:\n",
    "            node.right = self._delete(node.right, val)\n",
    "        else:\n",
    "            if not node.left:\n",
    "                return node.right\n",
    "            elif not node.right:\n",
    "                return node.left\n",
    "            else:\n",
    "                min_node = self._find_min(node.right)\n",
    "                node.val = min_node.val\n",
    "                node.right = self._delete(node.right, min_node.val)\n",
    "        return node\n",
    "\n",
    "    def _find_min(self, node):\n",
    "        while node.left:\n",
    "            node = node.left\n",
    "        return node\n",
    "\n",
    "    def inorder_traversal(self):\n",
    "        result = []\n",
    "        self._inorder_traversal(self.root, result)\n",
    "        return result\n",
    "\n",
    "    def _inorder_traversal(self, node, result):\n",
    "        if node:\n",
    "            self._inorder_traversal(node.left, result)\n",
    "            result.append(node.val)\n",
    "            self._inorder_traversal(node.right, result)\n",
    "\n",
    "# 测试\n",
    "nums = [9, -3, -10, 0, 9, 7, 33]\n",
    "bst = BST()\n",
    "for num in nums:\n",
    "    bst.insert(num)\n",
    "\n",
    "bst.delete(0)\n",
    "print(bst.inorder_traversal())  # 输出：[-10, -3, 7, 9, 9, 33]"
   ]
  },
  {
   "cell_type": "markdown",
   "metadata": {},
   "source": [
    "## 问题 6  \n",
    "\n",
    "> 给定一个包含大写字母和小写字母的字符串 s ，返回 字符串包含的 **最长的回文子串的长度** 。请注意 区分大小写 。比如 \"Aa\" 不能当做一个回文字符串。\n",
    ">\n",
    "\n",
    "请设计一个算法解决上述问题，只需要输出最长回文子串的长度，分析算法设计思路，计算时间复杂度，并基于python编程实现\n",
    "\n",
    "e.g. 输入： s=\"adccaccd\"，  输出：7。 最长回文子串为：\"dccaccd\", 长度为7\n"
   ]
  },
  {
   "cell_type": "markdown",
   "metadata": {},
   "source": [
    "### idea：\n",
    "\n",
    "动态规划法：使用动态规划来记录子串是否为回文。\n",
    "\n",
    "    dp[i][j] 表示子串 s[i:j+1] 是否为回文子串。\n",
    "    如果 s[i] == s[j]，则 dp[i][j] = dp[i+1][j-1]。\n",
    "    如果 s[i] != s[j]，则 dp[i][j] = False。\n",
    "初始化：\n",
    "\n",
    "    单个字符总是回文，因此 dp[i][i] = True。\n",
    "    两个字符如果相等，则 dp[i][i+1] = True。\n",
    "结果：\n",
    "\n",
    "    遍历 dp 表，找到最长的回文子串的长度\n",
    "\n",
    "### 时间复杂度\n",
    "时间复杂度：O(n^2)，其中 n 是字符串的长度。"
   ]
  },
  {
   "cell_type": "code",
   "execution_count": 14,
   "metadata": {},
   "outputs": [
    {
     "name": "stdout",
     "output_type": "stream",
     "text": [
      "最长回文子串长度为： 7\n"
     ]
    }
   ],
   "source": [
    "# add your idea here\n",
    "# your algorithm time complexity is:\n",
    "def longest_palindrome(s):\n",
    "    n = len(s)\n",
    "    if n == 0:\n",
    "        return 0\n",
    "\n",
    "    # 初始化dp表\n",
    "    dp = [[False] * n for _ in range(n)]\n",
    "    max_length = 1\n",
    "\n",
    "    # 单个字符总是回文\n",
    "    for i in range(n):\n",
    "        dp[i][i] = True\n",
    "\n",
    "    # 检查长度为2的子串\n",
    "    for i in range(n - 1):\n",
    "        if s[i] == s[i + 1]:\n",
    "            dp[i][i + 1] = True\n",
    "            max_length = 2\n",
    "\n",
    "    # 检查长度大于2的子串\n",
    "    for length in range(3, n + 1):\n",
    "        for i in range(n - length + 1):\n",
    "            j = i + length - 1\n",
    "            if s[i] == s[j] and dp[i + 1][j - 1]:\n",
    "                dp[i][j] = True\n",
    "                max_length = length\n",
    "\n",
    "    return max_length\n",
    "\n",
    "# 测试\n",
    "print(\"最长回文子串长度为：\",longest_palindrome(\"adccaccd\"))  # 输出：7"
   ]
  },
  {
   "cell_type": "markdown",
   "metadata": {},
   "source": [
    "## 问题 7 \n",
    "\n",
    "> 沿一条长河流分散着n座房子。你可以把这条河想象成一条轴，房子是由它们在这条轴上的坐标按顺序排列的。你的公司想在河边的特定地点设置手机基站，这样每户人家都在距离基站4公里的范围内。输入可以看作为一个升序数组，数组元素的取值为大于等于0的正整数，你需要输出最小基站的数目，基站的位置。\n",
    "\n",
    "1. 给出一个时间复杂度为$O(n$) 的算法，使所使用的基站数量最小化，分析算法设计思路，使用python编程实现\n",
    "2. 证明1.中算法产生了最优解决方案。\n",
    "\n",
    "e.g. \n",
    "\n",
    "输入： [1, 5, 12, 33, 34,35]  输出：基站数目为3， 基站位置为[1，12，33]\n",
    "\n"
   ]
  },
  {
   "cell_type": "markdown",
   "metadata": {},
   "source": [
    "### idea：\n",
    "\n",
    "    初始化基站位置列表 stations。\n",
    "    \n",
    "    遍历房子位置数组 houses。\n",
    "    \n",
    "    对于每个房子，如果它不在任何已选择基站的覆盖范围内，选择它作为新的基站位置，并将它添加到 stations 列表中。\n",
    "    \n",
    "    跳过所有在新基站覆盖范围内的房子。\n",
    "    \n",
    "    重复上述步骤，直到所有房子都被覆盖。\n",
    "    \n",
    "### 证明：\n",
    "\n",
    "    局部最优：在每一步选择基站位置时，我们选择的是当前未被覆盖的最左边的房子作为基站位置，这样可以覆盖尽可能多的房子。\n",
    "    \n",
    "    全局最优：由于每个基站的覆盖范围是固定的，选择最左边的房子作为基站位置可以确保覆盖范围内的房子数量最大化，从而最小化基站数量。"
   ]
  },
  {
   "cell_type": "code",
   "execution_count": 19,
   "metadata": {},
   "outputs": [
    {
     "name": "stdout",
     "output_type": "stream",
     "text": [
      "基站数目为3，基站位置为[1, 12, 33]\n"
     ]
    }
   ],
   "source": [
    "# add your idea here\n",
    "#参考大模型\n",
    "# your algorithm time complexity is:\n",
    "def min_stations(houses):\n",
    "    stations = []\n",
    "    i = 0\n",
    "    while i < len(houses):\n",
    "        # 选择当前未被覆盖的最左边的房子作为基站位置\n",
    "        station = houses[i]\n",
    "        stations.append(station)\n",
    "        # 跳过所有在新基站覆盖范围内的房子\n",
    "        while i < len(houses) and houses[i] <= station + 8:\n",
    "            i += 1\n",
    "    return len(stations), stations\n",
    "\n",
    "# 示例\n",
    "houses = [1, 5, 12, 33, 34, 35]\n",
    "num_stations, stations = min_stations(houses)\n",
    "print(f\"基站数目为{num_stations}，基站位置为{stations}\")\n",
    "    "
   ]
  },
  {
   "cell_type": "markdown",
   "metadata": {},
   "source": [
    "## 问题 8  \n",
    "\n",
    "> 给定由n个正整数组成的一个集合$S = \\{a_1, a_2，···，a_n\\}$和一个正整数W，设计一个算法确定是否存在S的一个子集 $K \\subseteq S$, 使K中所有数之和为 $W$, 如果存在返回“True”，否则返回“False”\n",
    "\n",
    "请设计一个时间复杂度为$O(nW)$动态规划算法，解决上述问题，分析算法的设计思路，并且基于python编程实现（不需要输出子集）。\n",
    "\n",
    "e.g. \n",
    "\n",
    "输入：S = {1,4,7,3,5}， W = 11，输出：True。   因为K可以是{4,7}。\n",
    "\n"
   ]
  },
  {
   "cell_type": "markdown",
   "metadata": {},
   "source": [
    "### idea：\n",
    "使用动态规划来记录子集和的状态。\n",
    "\n",
    "$ dp[i][j] $ 表示前 i 个元素中是否存在一个子集，其和为 j。\n",
    "\n",
    "如果不选择第 i 个元素，$ dp[i][j] = dp[i-1][j]。$\n",
    "\n",
    "如果选择第 i 个元素，$ dp[i][j] = dp[i-1][j - a_i]。$\n",
    "\n",
    "因此，$dp[i][j] = dp[i-1][j]  \\text{ or }  dp[i-1][j - a_i]。$\n",
    "\n",
    "初始化：\n",
    "\n",
    "$ dp[0][0]  $= True，表示和为0的子集存在（空集）。\n",
    "\n",
    "$ dp[0][j] $ = False，表示和为 j 的子集不存在（没有元素）。\n",
    "\n",
    "结果：\n",
    "\n",
    "$ dp[n][W] $ 表示是否存在一个子集，其和为 W "
   ]
  },
  {
   "cell_type": "code",
   "execution_count": 20,
   "metadata": {},
   "outputs": [
    {
     "name": "stdout",
     "output_type": "stream",
     "text": [
      "True\n"
     ]
    }
   ],
   "source": [
    "# add your idea here\n",
    "# your algorithm time complexity is: O(nW)\n",
    "def subset_sum(S, W):\n",
    "    n = len(S)\n",
    "    # 初始化dp表\n",
    "    dp = [[False] * (W + 1) for _ in range(n + 1)]\n",
    "    # 和为0的子集存在（空集）\n",
    "    for i in range(n + 1):\n",
    "        dp[i][0] = True\n",
    "\n",
    "    # 填充dp表\n",
    "    for i in range(1, n + 1):\n",
    "        for j in range(1, W + 1):\n",
    "            if S[i - 1] > j:\n",
    "                dp[i][j] = dp[i - 1][j]\n",
    "            else:\n",
    "                dp[i][j] = dp[i - 1][j] or dp[i - 1][j - S[i - 1]]\n",
    "\n",
    "    return dp[n][W]\n",
    "\n",
    "# 测试\n",
    "S = [1, 4, 7, 3, 5]\n",
    "W = 11\n",
    "print(subset_sum(S, W))  # 输出：True\n",
    "\n"
   ]
  },
  {
   "cell_type": "markdown",
   "metadata": {},
   "source": [
    "\n",
    "\n",
    "## 问题 9 \n",
    "\n",
    "> 给定一个n个物品的集合。物体的重量为$w_1, w_2，…、w_n$，物品的价值分别是$v_1、v_2、…v_n$。给你**两个**重量为 $c$ 的背包。如果你带了一个东西，它可以放在一个背包里，也可以放在另一个背包里，但不能同时放在两个背包里。所有权重和价值都是正整数。\n",
    "\n",
    "1. 设计一个时间复杂度为 $O(nc^2)$ 的动态规划算法，确定可以放入两个背包的物体的最大价值。分析算法设计思路，并基于python编程实现\n",
    "2. \\* 修改1中的算法，输出每个背包的内容（物品对应下标）。\n",
    "\n",
    "e.g.: \n",
    "\n",
    "输入 V=[1,3,2,5,8,7], W=[1,3,2,5,8,7], c=7, 输出：最大价值=14，背包装的物品为：[6] [4，3] （同一个背包中物品装入顺序对结果无影响）  \n"
   ]
  },
  {
   "cell_type": "markdown",
   "metadata": {},
   "source": [
    "### idea：\n",
    "用动态规划来记录两个背包的最大价值。\n",
    "    \n",
    "$ dp[i][j][k] 表示前 i 个物品中，第一个背包的重量为 j，第二个背包的重量为 k 时的最大价值。$\n",
    "     \n",
    "$ 不选择第 i 个物品：dp[i][j][k] = dp[i-1][j][k] $\n",
    "\n",
    "$ 如果 j≥w :将第 i 个物品放入第一个背包：dp[i][j][k] = dp[i-1][j-w_i][k] + v_i $\n",
    "\n",
    "$ 如果 k≥w ,将第 i 个物品放入第二个背包：dp[i][j][k] = dp[i-1][j][k-w_i] + v_i $\n",
    " \n",
    "$ 故，dp[i][j][k] = max(dp[i-1][j][k], dp[i-1][j-w_i][k] + v_i, dp[i-1][j][k-w_i] + v_i)$\n",
    "    \n",
    "初始化：\n",
    "\n",
    "$ dp[0][0][0] = 0，表示没有物品时，两个背包的重量为0，价值为0。$\n",
    "\n",
    "$ 其他 dp[i][j][k] 初始化为0。$\n",
    "    \n",
    "结果：\n",
    "\n",
    "$ dp[n][c][c] 表示前 n 个物品中，两个背包的重量分别为 c 时的最大价值。$"
   ]
  },
  {
   "cell_type": "code",
   "execution_count": 22,
   "metadata": {},
   "outputs": [
    {
     "name": "stdout",
     "output_type": "stream",
     "text": [
      "14\n"
     ]
    }
   ],
   "source": [
    "# add your idea here\n",
    "# your algorithm time complexity is: O(nc^2)\n",
    "def max_value_two_knapsacks(V, W, c):\n",
    "    n = len(V)\n",
    "    # 初始化dp表\n",
    "    dp = [[[0 for _ in range(c + 1)] for _ in range(c + 1)] for _ in range(n + 1)]\n",
    "    \n",
    "    # 填充dp表\n",
    "    for i in range(1, n + 1):\n",
    "        for j in range(c + 1):\n",
    "            for k in range(c + 1):\n",
    "                dp[i][j][k] = dp[i-1][j][k]  # 不选择第i个物品\n",
    "                if j >= W[i-1]:\n",
    "                    dp[i][j][k] = max(dp[i][j][k], dp[i-1][j-W[i-1]][k] + V[i-1])  # 放入第一个背包\n",
    "                if k >= W[i-1]:\n",
    "                    dp[i][j][k] = max(dp[i][j][k], dp[i-1][j][k-W[i-1]] + V[i-1])  # 放入第二个背包\n",
    "    \n",
    "    return dp[n][c][c]\n",
    "\n",
    "# 测试\n",
    "V = [1, 3, 2, 5, 8, 7]\n",
    "W = [1, 3, 2, 5, 8, 7]\n",
    "c = 7\n",
    "print(max_value_two_knapsacks(V, W, c))  # 输出：14"
   ]
  },
  {
   "cell_type": "markdown",
   "metadata": {},
   "source": [
    "*为了输出每个背包的内容，我们需要在动态规划表中记录选择的物品。可以通过一个额外的表 choice 来记录每个状态的选择。"
   ]
  },
  {
   "cell_type": "code",
   "execution_count": 28,
   "metadata": {},
   "outputs": [
    {
     "name": "stdout",
     "output_type": "stream",
     "text": [
      "最大价值=14, 背包装的物品为：[6] [4, 3]\n"
     ]
    }
   ],
   "source": [
    "def max_value_two_knapsacks_with_items(V, W, c):\n",
    "    n = len(V)\n",
    "    # 初始化dp表和choice表\n",
    "    dp = [[[0 for _ in range(c + 1)] for _ in range(c + 1)] for _ in range(n + 1)]\n",
    "    choice = [[[None for _ in range(c + 1)] for _ in range(c + 1)] for _ in range(n + 1)]\n",
    "    \n",
    "    # 填充dp表和choice表\n",
    "    for i in range(1, n + 1):\n",
    "        for j in range(c + 1):\n",
    "            for k in range(c + 1):\n",
    "                dp[i][j][k] = dp[i-1][j][k]\n",
    "                choice[i][j][k] = (i-1, j, k)\n",
    "                if j >= W[i-1] and dp[i-1][j-W[i-1]][k] + V[i-1] > dp[i][j][k]:\n",
    "                    dp[i][j][k] = dp[i-1][j-W[i-1]][k] + V[i-1]\n",
    "                    choice[i][j][k] = (i-1, j-W[i-1], k)\n",
    "                if k >= W[i-1] and dp[i-1][j][k-W[i-1]] + V[i-1] > dp[i][j][k]:\n",
    "                    dp[i][j][k] = dp[i-1][j][k-W[i-1]] + V[i-1]\n",
    "                    choice[i][j][k] = (i-1, j, k-W[i-1])\n",
    "    \n",
    "    # 回溯找到每个背包的内容\n",
    "    items = [[], []]\n",
    "    i, j, k = n, c, c\n",
    "    while i > 0:\n",
    "        prev_i, prev_j, prev_k = choice[i][j][k]\n",
    "        if prev_j != j:\n",
    "            items[0].append(i)\n",
    "        elif prev_k != k:\n",
    "            items[1].append(i)\n",
    "        i, j, k = prev_i, prev_j, prev_k\n",
    "    \n",
    "    return dp[n][c][c], items\n",
    "\n",
    "# 测试\n",
    "V = [1, 3, 2, 5, 8, 7]\n",
    "W = [1, 3, 2, 5, 8, 7]\n",
    "c = 7\n",
    "max_value, items = max_value_two_knapsacks_with_items(V, W, c)\n",
    "print(f\"最大价值={max_value}, 背包装的物品为：{items[0]} {items[1]}\")"
   ]
  },
  {
   "cell_type": "markdown",
   "metadata": {},
   "source": [
    "## 问题 10 \n",
    "\n",
    "> 给定两个字符串 $x[1..n]$ 和 $y[1..m]$，我们想通过以下操作将 $x$ 变换为 $y$ :\n",
    ">\n",
    "> **插入**：在 $x$ 中插入一个字符(在任何位置)；**删除**：从 $x$ 中删除一个字符(在任何位置)； **替换**：用另一个字符替换 $x$ 中的一个字符。\n",
    ">\n",
    "> 例如: $x = abcd$, $y = bcfe$，\n",
    ">\n",
    "> - 将 $x$ 转换为 $y$ 的一种可能方法是：1. 删除 $x$ 开头的 $a$, $x$变成 $bcd$； 2. 将 $x$ 中的字符 $d$ 替换为字符 $f$。$x$ 变成 $bcf$； 3. 在 $x$ 的末尾插入字符 $e$。$x$ 变成 $bcfe$。\n",
    ">\n",
    "> - 另一种可能的方法：1. 删除 $x$ 开头的 $a$,  $x$ 变成 $bcd$； 2. 在 $x$ 中字符 $d$ 之前插入字符 $f$。$x$ 变成 $bcfd$。3. 将 $x$ 中的字符 $d$ 替换为字符 $e$。$x$ 变成 $bcfe$。\n",
    "\n",
    "设计一个时间复杂度为 $O(mn)$ 的算法，返回将 $x$ 转换为 $y$ 所需的最少操作次数。分析算法设计思路，并基于python编程实现。\n"
   ]
  },
  {
   "cell_type": "markdown",
   "metadata": {},
   "source": [
    "### idea：\n",
    "动态规划来记录子问题的解：\n",
    "\n",
    "$dp[i][j] 表示将 x 的前 i 个字符转换为 y 的前 j 个字符所需的最少操作次数。$\n",
    "\n",
    "$如果 x[i−1]==y[j−1]，则 dp[i][j] = dp[i-1][j-1]。$\n",
    "\n",
    "$如果 x[i−1]!=y[j−1]，则 dp[i][j] = min(dp[i-1][j] + 1, dp[i][j-1] + 1, dp[i-1][j-1] + 1)。$\n",
    "\n",
    "$dp[i-1][j] + 1 表示删除 x 的第 i 个字符。$\n",
    "\n",
    "$dp[i][j-1] + 1 表示在 x 的末尾插入 y 的第 j 个字符。$\n",
    "\n",
    "$dp[i-1][j-1] + 1 表示将 x 的第 i 个字符替换为 y 的第 j 个字符。$\n",
    "\n",
    "初始化：\n",
    "\n",
    "$dp[0][j] = j，表示将空字符串转换为 y 的前 j 个字符需要 j 次插入。$\n",
    "\n",
    "$dp[i][0] = i，表示将 x 的前 i 个字符转换为空字符串需要 i 次删除。$\n",
    "\n",
    "结果：\n",
    "\n",
    "$dp[n][m] 表示将 x 转换为 y 所需的最少操作次数$"
   ]
  },
  {
   "cell_type": "code",
   "execution_count": 30,
   "metadata": {},
   "outputs": [
    {
     "name": "stdout",
     "output_type": "stream",
     "text": [
      "最小操作次数为: 3\n"
     ]
    }
   ],
   "source": [
    "# add your idea here\n",
    "#本题参考大模型\n",
    "# your algorithm time complexity is: O(mn)\n",
    "def edit_distance(x, y):\n",
    "    n = len(x)\n",
    "    m = len(y)\n",
    "    # 初始化dp表\n",
    "    dp = [[0] * (m + 1) for _ in range(n + 1)]\n",
    "    for i in range(n + 1):\n",
    "        dp[i][0] = i\n",
    "    for j in range(m + 1):\n",
    "        dp[0][j] = j\n",
    "\n",
    "    # 填充dp表\n",
    "    for i in range(1, n + 1):\n",
    "        for j in range(1, m + 1):\n",
    "            if x[i - 1] == y[j - 1]:\n",
    "                dp[i][j] = dp[i - 1][j - 1]\n",
    "            else:\n",
    "                dp[i][j] = min(dp[i - 1][j] + 1, dp[i][j - 1] + 1, dp[i - 1][j - 1] + 1)\n",
    "\n",
    "    return dp[n][m]\n",
    "\n",
    "# 测试\n",
    "x = \"abcd\"\n",
    "y = \"bcfe\"\n",
    "print(\"最小操作次数为:\",edit_distance(x, y))  # 输出：3"
   ]
  }
 ],
 "metadata": {
  "kernelspec": {
   "display_name": "Python 3 (ipykernel)",
   "language": "python",
   "name": "python3"
  },
  "language_info": {
   "codemirror_mode": {
    "name": "ipython",
    "version": 3
   },
   "file_extension": ".py",
   "mimetype": "text/x-python",
   "name": "python",
   "nbconvert_exporter": "python",
   "pygments_lexer": "ipython3",
   "version": "3.12.6"
  }
 },
 "nbformat": 4,
 "nbformat_minor": 4
}
